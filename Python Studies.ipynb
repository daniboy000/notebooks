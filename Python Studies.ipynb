{
 "cells": [
  {
   "cell_type": "markdown",
   "metadata": {},
   "source": [
    "## Funções nativas do Python"
   ]
  },
  {
   "cell_type": "markdown",
   "metadata": {},
   "source": [
    "-> **dir(variável)**: imprime todas as informações/atributos da classe do objeto *variável*"
   ]
  },
  {
   "cell_type": "code",
   "execution_count": 1,
   "metadata": {
    "collapsed": false
   },
   "outputs": [
    {
     "data": {
      "text/plain": [
       "['__abs__',\n",
       " '__add__',\n",
       " '__and__',\n",
       " '__bool__',\n",
       " '__ceil__',\n",
       " '__class__',\n",
       " '__delattr__',\n",
       " '__dir__',\n",
       " '__divmod__',\n",
       " '__doc__',\n",
       " '__eq__',\n",
       " '__float__',\n",
       " '__floor__',\n",
       " '__floordiv__',\n",
       " '__format__',\n",
       " '__ge__',\n",
       " '__getattribute__',\n",
       " '__getnewargs__',\n",
       " '__gt__',\n",
       " '__hash__',\n",
       " '__index__',\n",
       " '__init__',\n",
       " '__init_subclass__',\n",
       " '__int__',\n",
       " '__invert__',\n",
       " '__le__',\n",
       " '__lshift__',\n",
       " '__lt__',\n",
       " '__mod__',\n",
       " '__mul__',\n",
       " '__ne__',\n",
       " '__neg__',\n",
       " '__new__',\n",
       " '__or__',\n",
       " '__pos__',\n",
       " '__pow__',\n",
       " '__radd__',\n",
       " '__rand__',\n",
       " '__rdivmod__',\n",
       " '__reduce__',\n",
       " '__reduce_ex__',\n",
       " '__repr__',\n",
       " '__rfloordiv__',\n",
       " '__rlshift__',\n",
       " '__rmod__',\n",
       " '__rmul__',\n",
       " '__ror__',\n",
       " '__round__',\n",
       " '__rpow__',\n",
       " '__rrshift__',\n",
       " '__rshift__',\n",
       " '__rsub__',\n",
       " '__rtruediv__',\n",
       " '__rxor__',\n",
       " '__setattr__',\n",
       " '__sizeof__',\n",
       " '__str__',\n",
       " '__sub__',\n",
       " '__subclasshook__',\n",
       " '__truediv__',\n",
       " '__trunc__',\n",
       " '__xor__',\n",
       " 'bit_length',\n",
       " 'conjugate',\n",
       " 'denominator',\n",
       " 'from_bytes',\n",
       " 'imag',\n",
       " 'numerator',\n",
       " 'real',\n",
       " 'to_bytes']"
      ]
     },
     "execution_count": 1,
     "metadata": {},
     "output_type": "execute_result"
    }
   ],
   "source": [
    "a = 1\n",
    "dir(a)  # imprime dados sobre a classe int"
   ]
  },
  {
   "cell_type": "markdown",
   "metadata": {},
   "source": [
    "-> **repr(obj)**: retorna um string contendo a representação do objeto"
   ]
  },
  {
   "cell_type": "code",
   "execution_count": 2,
   "metadata": {
    "collapsed": false
   },
   "outputs": [
    {
     "name": "stdout",
     "output_type": "stream",
     "text": [
      "s: 1 2\t 3 \n",
      "4\n"
     ]
    },
    {
     "data": {
      "text/plain": [
       "\"'1 2\\\\t 3 \\\\n4'\""
      ]
     },
     "execution_count": 2,
     "metadata": {},
     "output_type": "execute_result"
    }
   ],
   "source": [
    "s = '1 2\\t 3 \\n4'\n",
    "print(\"s:\", s)\n",
    "repr(s)"
   ]
  },
  {
   "cell_type": "markdown",
   "metadata": {},
   "source": [
    "-> Adicionando um arquivo local ao path do Python"
   ]
  },
  {
   "cell_type": "code",
   "execution_count": null,
   "metadata": {
    "collapsed": true
   },
   "outputs": [],
   "source": [
    "import sys\n",
    "sys.path.append('caminho para o arquivo')"
   ]
  },
  {
   "cell_type": "markdown",
   "metadata": {},
   "source": [
    "Em python toda divisão retorna um float. Quando quisermos somente a parte inteira da divisão (floor ou arredondar para baixo), devemos utilizar o operador //"
   ]
  },
  {
   "cell_type": "code",
   "execution_count": 1,
   "metadata": {
    "collapsed": false
   },
   "outputs": [
    {
     "name": "stdout",
     "output_type": "stream",
     "text": [
      "17 /  3 = 5.666666666666667\n",
      "17 // 3 = 5\n",
      "17 %  3 = 2\n"
     ]
    }
   ],
   "source": [
    "print('17 /  3 =', 17 / 3)   # retorna float\n",
    "print('17 // 3 =', 17 // 3)  # retorna int\n",
    "print('17 %  3 =', 17 % 3)   # resto da divisão"
   ]
  },
  {
   "cell_type": "markdown",
   "metadata": {},
   "source": [
    "**obs**: \n",
    "- qualquer inteiro não-zero é **True**, zero é **False**.\n",
    "- Uma lista ou string não-vazia é **True** e é **False** quando vazia."
   ]
  },
  {
   "cell_type": "code",
   "execution_count": 1,
   "metadata": {
    "collapsed": false
   },
   "outputs": [
    {
     "name": "stdout",
     "output_type": "stream",
     "text": [
      "v0 is False\n",
      "v1 is True\n",
      "l0 is False\n",
      "l1 is True\n",
      "s1 is True\n",
      "s2 is False\n"
     ]
    }
   ],
   "source": [
    "v0 = 0\n",
    "v1 = 5\n",
    "\n",
    "l0 = []\n",
    "l1 = [1]\n",
    "\n",
    "s1 = 'lala'\n",
    "s2 = ''\n",
    "\n",
    "if v0:\n",
    "    print('v0 is True')\n",
    "else:\n",
    "    print('v0 is False')\n",
    "    \n",
    "if v1:\n",
    "    print('v1 is True')\n",
    "else:\n",
    "    print('v1 is False')\n",
    "    \n",
    "if l0:\n",
    "    print('l0 is True')\n",
    "else:\n",
    "    print('l0 is False')\n",
    "    \n",
    "if l1:\n",
    "    print('l1 is True')\n",
    "else:\n",
    "    print('l1 is False')\n",
    "        \n",
    "if s1:\n",
    "    print('s1 is True')\n",
    "else:\n",
    "    print('s1 is False')\n",
    "    \n",
    "if s2:\n",
    "    print('s2 is True')\n",
    "else:\n",
    "    print('s2 is False')"
   ]
  },
  {
   "cell_type": "markdown",
   "metadata": {},
   "source": [
    "**-> raw string**: é utilizado quando não quisermos imprimir caracteres especiais. Basta colocar o caracter **r** antes da definição do string. Ex: r'texto raw'"
   ]
  },
  {
   "cell_type": "code",
   "execution_count": 6,
   "metadata": {
    "collapsed": false
   },
   "outputs": [
    {
     "name": "stdout",
     "output_type": "stream",
     "text": [
      "Normal: C:\\some\n",
      "ame\n",
      "Raw: C:\\some\\name\n"
     ]
    }
   ],
   "source": [
    "print('Normal:', 'C:\\some\\name')\n",
    "print('Raw:', r'C:\\some\\name')"
   ]
  },
  {
   "cell_type": "markdown",
   "metadata": {},
   "source": [
    "## obs: jamais salve o nome de um arquivo Python com o mesmo nome de um pacote já existente"
   ]
  },
  {
   "cell_type": "markdown",
   "metadata": {},
   "source": [
    "## Listas:"
   ]
  },
  {
   "cell_type": "markdown",
   "metadata": {},
   "source": [
    "**-> append(var)**: insere um valor na posição final da lista"
   ]
  },
  {
   "cell_type": "code",
   "execution_count": 2,
   "metadata": {
    "collapsed": false
   },
   "outputs": [
    {
     "name": "stdout",
     "output_type": "stream",
     "text": [
      "t1 antes: [1, 2]\n",
      "t1 depois: [1, 2, 3]\n"
     ]
    }
   ],
   "source": [
    "t1 = [1, 2]\n",
    "print('t1 antes:', t1)\n",
    "\n",
    "t1.append(3)\n",
    "print('t1 depois:', t1)"
   ]
  },
  {
   "cell_type": "markdown",
   "metadata": {},
   "source": [
    "**obs: append** pode receber uma lista como parâmetro e também será colocada na posição final da lista."
   ]
  },
  {
   "cell_type": "code",
   "execution_count": 4,
   "metadata": {
    "collapsed": false
   },
   "outputs": [
    {
     "name": "stdout",
     "output_type": "stream",
     "text": [
      "t1 antes: [1, 2]\n",
      "t1 depois: [1, 2, [3, 4]]\n"
     ]
    }
   ],
   "source": [
    "t1 = [1, 2]\n",
    "t2 = [3, 4]\n",
    "print('t1 antes:', t1)\n",
    "\n",
    "t1.append(t2)\n",
    "print('t1 depois:', t1)"
   ]
  },
  {
   "cell_type": "markdown",
   "metadata": {},
   "source": [
    "-> **extend(lista)**: 'appenda' todos os elementos de uma lista em outra."
   ]
  },
  {
   "cell_type": "code",
   "execution_count": 1,
   "metadata": {
    "collapsed": false
   },
   "outputs": [
    {
     "name": "stdout",
     "output_type": "stream",
     "text": [
      "t1 antes: [1, 2, 3]\n",
      "t2 antes: [4, 5]\n",
      "t1 depois: [1, 2, 3, 4, 5]\n",
      "t2 depois: [4, 5]\n"
     ]
    }
   ],
   "source": [
    "t1 = [1, 2, 3]\n",
    "t2 = [4, 5]\n",
    "print('t1 antes:', t1)\n",
    "print('t2 antes:', t2)\n",
    "\n",
    "t1.extend(t2)\n",
    "print('t1 depois:', t1)\n",
    "print('t2 depois:', t2)"
   ]
  },
  {
   "cell_type": "markdown",
   "metadata": {},
   "source": [
    "**obs**: esse comando não altera a lista adicionanda"
   ]
  },
  {
   "cell_type": "markdown",
   "metadata": {},
   "source": [
    "**extend** é equivalente a t1 = t1 + t2, porém, **extend** é mais eficiente."
   ]
  },
  {
   "cell_type": "code",
   "execution_count": 8,
   "metadata": {
    "collapsed": false
   },
   "outputs": [
    {
     "name": "stdout",
     "output_type": "stream",
     "text": [
      "t1: [1, 2, 3, 4, 5]\n",
      "t2: [4, 5]\n"
     ]
    }
   ],
   "source": [
    "t1 = [1, 2, 3]\n",
    "t2 = [4, 5]\n",
    "t1 = t1 + t2\n",
    "print('t1:', t1)\n",
    "print('t2:', t2)"
   ]
  },
  {
   "cell_type": "markdown",
   "metadata": {},
   "source": [
    "-> **insert(i, var)**: insere var na posição i da lista "
   ]
  },
  {
   "cell_type": "code",
   "execution_count": 11,
   "metadata": {
    "collapsed": false
   },
   "outputs": [
    {
     "data": {
      "text/plain": [
       "['a', 'b', 'c', 'd']"
      ]
     },
     "execution_count": 11,
     "metadata": {},
     "output_type": "execute_result"
    }
   ],
   "source": [
    "t3 = ['a', 'b', 'd']\n",
    "t3.insert(2, 'c')\n",
    "t3"
   ]
  },
  {
   "cell_type": "markdown",
   "metadata": {},
   "source": [
    "-> **pop(index)**: remove e retorna o elemento na posição 'index' da lista. Se 'index' for vazio, retorna o último elemento."
   ]
  },
  {
   "cell_type": "code",
   "execution_count": 9,
   "metadata": {
    "collapsed": false
   },
   "outputs": [
    {
     "name": "stdout",
     "output_type": "stream",
     "text": [
      "t: ['a', 'c']\n",
      "x: b\n"
     ]
    }
   ],
   "source": [
    "t = ['a', 'b', 'c']\n",
    "x = t.pop(1)\n",
    "print('t:', t)\n",
    "print('x:', x)"
   ]
  },
  {
   "cell_type": "markdown",
   "metadata": {},
   "source": [
    "-> **del list[index]**: remove um elemento da posição 'index' de uma lista. O elemento deletado da lista não é retornado."
   ]
  },
  {
   "cell_type": "code",
   "execution_count": 10,
   "metadata": {
    "collapsed": false
   },
   "outputs": [
    {
     "name": "stdout",
     "output_type": "stream",
     "text": [
      "t antes: [1, 2, 3]\n",
      "t depois: [1, 3]\n"
     ]
    }
   ],
   "source": [
    "t = [1, 2, 3]\n",
    "print('t antes:', t)\n",
    "del t[1]\n",
    "print('t depois:', t)"
   ]
  },
  {
   "cell_type": "markdown",
   "metadata": {},
   "source": [
    "**obs**: pode-se utilizar del com slices"
   ]
  },
  {
   "cell_type": "code",
   "execution_count": 11,
   "metadata": {
    "collapsed": false
   },
   "outputs": [
    {
     "name": "stdout",
     "output_type": "stream",
     "text": [
      "Letters antes: ['a', 'b', 'c', 'd', 'e', 'f', 'g']\n",
      "Letters depois: ['a', 'b', 'f', 'g']\n"
     ]
    }
   ],
   "source": [
    "letters = ['a', 'b', 'c', 'd', 'e', 'f', 'g']\n",
    "print('Letters antes:', letters)\n",
    "\n",
    "del letters[2:5]\n",
    "print('Letters depois:', letters)"
   ]
  },
  {
   "cell_type": "markdown",
   "metadata": {},
   "source": [
    "-> **remove(elemento)**: remove o elemento específico da lista:    "
   ]
  },
  {
   "cell_type": "code",
   "execution_count": 12,
   "metadata": {
    "collapsed": false
   },
   "outputs": [
    {
     "name": "stdout",
     "output_type": "stream",
     "text": [
      "t antes: ['1', '2', '3']\n",
      "t depois: ['1', '2']\n"
     ]
    }
   ],
   "source": [
    "t = ['1', '2', '3']\n",
    "print('t antes:', t)\n",
    "t.remove('3')\n",
    "print('t depois:', t)"
   ]
  },
  {
   "cell_type": "markdown",
   "metadata": {},
   "source": [
    "**obs 1**: a função **remove** não retorna nada. Logo, executando ** *e = t.remove('3')* **, temos ** *e* ** igual a **None**. "
   ]
  },
  {
   "cell_type": "markdown",
   "metadata": {},
   "source": [
    "**obs 2**: uma exceção ocorre caso se tente remover um elemento que não existe."
   ]
  },
  {
   "cell_type": "markdown",
   "metadata": {
    "collapsed": true
   },
   "source": [
    "-> **len(list)**: retorna o número de elementos da lista"
   ]
  },
  {
   "cell_type": "code",
   "execution_count": 13,
   "metadata": {
    "collapsed": false
   },
   "outputs": [
    {
     "data": {
      "text/plain": [
       "3"
      ]
     },
     "execution_count": 13,
     "metadata": {},
     "output_type": "execute_result"
    }
   ],
   "source": [
    "lista = [1, 2, 3]\n",
    "len(lista)"
   ]
  },
  {
   "cell_type": "markdown",
   "metadata": {
    "collapsed": true
   },
   "source": [
    "-> **max(lista) e min(lista)**: retorna o elemento de maior e menor valor da lista"
   ]
  },
  {
   "cell_type": "code",
   "execution_count": 14,
   "metadata": {
    "collapsed": false
   },
   "outputs": [
    {
     "name": "stdout",
     "output_type": "stream",
     "text": [
      "max: 3\n",
      "min: 1\n"
     ]
    }
   ],
   "source": [
    "print('max:', max(lista))\n",
    "print('min:', min(lista))"
   ]
  },
  {
   "cell_type": "markdown",
   "metadata": {
    "collapsed": true
   },
   "source": [
    "-> **sum(lista)**: retorna a soma de todos os elementos da lista"
   ]
  },
  {
   "cell_type": "code",
   "execution_count": 15,
   "metadata": {
    "collapsed": false
   },
   "outputs": [
    {
     "name": "stdout",
     "output_type": "stream",
     "text": [
      "sum: 6\n"
     ]
    }
   ],
   "source": [
    "print('sum:', sum(lista))"
   ]
  },
  {
   "cell_type": "markdown",
   "metadata": {
    "collapsed": true
   },
   "source": [
    "**obs**: sum(list) só funciona com uma lista de números."
   ]
  },
  {
   "cell_type": "markdown",
   "metadata": {
    "collapsed": true
   },
   "source": [
    "-> **join(lista)**: concatena uma lista de strings em um string único."
   ]
  },
  {
   "cell_type": "code",
   "execution_count": 16,
   "metadata": {
    "collapsed": false
   },
   "outputs": [
    {
     "name": "stdout",
     "output_type": "stream",
     "text": [
      "result: Pinning for the fjords\n"
     ]
    }
   ],
   "source": [
    "lista = ['Pinning', 'for', 'the', 'fjords']\n",
    "delimiter = ' '\n",
    "result = delimiter.join(lista)\n",
    "print('result:', result)"
   ]
  },
  {
   "cell_type": "markdown",
   "metadata": {},
   "source": [
    "-> **enumerate(lista)**: retorna a posição e o elemento da posição de uma lista"
   ]
  },
  {
   "cell_type": "code",
   "execution_count": 29,
   "metadata": {
    "collapsed": false
   },
   "outputs": [
    {
     "name": "stdout",
     "output_type": "stream",
     "text": [
      "0 a\n",
      "1 b\n",
      "2 c\n"
     ]
    }
   ],
   "source": [
    "l = ['a', 'b', 'c']\n",
    "for index, item in enumerate(l):\n",
    "    print(index, item)"
   ]
  },
  {
   "cell_type": "markdown",
   "metadata": {},
   "source": [
    "## Dicionários\n",
    "\n",
    "dicionário = hash map.\n",
    "Dicionários podem ser criados das seguintes formas:"
   ]
  },
  {
   "cell_type": "code",
   "execution_count": 6,
   "metadata": {
    "collapsed": true
   },
   "outputs": [],
   "source": [
    "dictio = {'chuck' : 1, 'fred' : 2}\n",
    "dictio_2 = dict()  # cria um dicionário vazio\n",
    "dictio_3 = {}      # cria um dicionário vazio"
   ]
  },
  {
   "cell_type": "markdown",
   "metadata": {},
   "source": [
    "**-> list(dict)**: cria uma lista com as *keys/chaves* do dicionário "
   ]
  },
  {
   "cell_type": "code",
   "execution_count": 7,
   "metadata": {
    "collapsed": false
   },
   "outputs": [
    {
     "name": "stdout",
     "output_type": "stream",
     "text": [
      "['fred', 'chuck']\n"
     ]
    }
   ],
   "source": [
    "list_keys = list(dictio)\n",
    "print(list_keys)"
   ]
  },
  {
   "cell_type": "markdown",
   "metadata": {},
   "source": [
    "**->dict.keys()**: retorna uma lista contendo as *keys/chaves* do dicionário"
   ]
  },
  {
   "cell_type": "code",
   "execution_count": 20,
   "metadata": {
    "collapsed": false
   },
   "outputs": [
    {
     "data": {
      "text/plain": [
       "dict_keys(['fred', 'chuck'])"
      ]
     },
     "execution_count": 20,
     "metadata": {},
     "output_type": "execute_result"
    }
   ],
   "source": [
    "dictio.keys()"
   ]
  },
  {
   "cell_type": "markdown",
   "metadata": {},
   "source": [
    "**dict.values()**: retorna os valores do dicionário"
   ]
  },
  {
   "cell_type": "code",
   "execution_count": 21,
   "metadata": {
    "collapsed": false
   },
   "outputs": [
    {
     "data": {
      "text/plain": [
       "dict_values([2, 1])"
      ]
     },
     "execution_count": 21,
     "metadata": {},
     "output_type": "execute_result"
    }
   ],
   "source": [
    "dictio.values()"
   ]
  },
  {
   "cell_type": "markdown",
   "metadata": {},
   "source": [
    "**->dict.items()**: retorna uma lista de tuplas cujo formato é (key, valor)"
   ]
  },
  {
   "cell_type": "code",
   "execution_count": 22,
   "metadata": {
    "collapsed": false
   },
   "outputs": [
    {
     "data": {
      "text/plain": [
       "dict_items([('fred', 2), ('chuck', 1)])"
      ]
     },
     "execution_count": 22,
     "metadata": {},
     "output_type": "execute_result"
    }
   ],
   "source": [
    "dictio.items()"
   ]
  },
  {
   "cell_type": "markdown",
   "metadata": {},
   "source": [
    "## obs: arquivos __init.py__ são necessários para fazer com que o Python trate os diretórios como contendo packages"
   ]
  },
  {
   "cell_type": "markdown",
   "metadata": {},
   "source": [
    "Suport a unicode em Python\n",
    "\n",
    "\\# -\\*- coding: utf-8 -\\*-"
   ]
  },
  {
   "cell_type": "markdown",
   "metadata": {},
   "source": [
    "### Utilizando virtualenv no Ubuntu\n",
    "\n",
    "- criar diretório para o projeto. Ex: *mkdir my_project*\n",
    "- acessar diretório do projeto.\n",
    "- criar virtualenv dentro do diretório. Ex: *virtualenv .*\n",
    "- iniciar virtualenv: Ex: *virtualenv/source bin/activate*\n",
    "- desativar virtualenv. Ex: *deactivate*"
   ]
  },
  {
   "cell_type": "markdown",
   "metadata": {},
   "source": [
    "**obs**: use o parâmetro --python-python3 para utilizar o Python3 no virtualenv.\n",
    "\n",
    "Quando você cria um *virtual environment*, diretórios específicos (bin, build, include e lib) são criados para armazenar uma cópia do Python do sistema e alguns *paths* são definidos. Quando o *virtual environment* é ativado, tudo que você instalar com *pip* ou *easy_install* dentro do *virtual environment* será instalado somente nele e não no sistema."
   ]
  },
  {
   "cell_type": "markdown",
   "metadata": {},
   "source": [
    "**-> map(function, iterable)**: aplica a função **function** a cada ítem do objeto **iterable** e retorna um **iterable**."
   ]
  },
  {
   "cell_type": "code",
   "execution_count": 2,
   "metadata": {
    "collapsed": false
   },
   "outputs": [
    {
     "data": {
      "text/plain": [
       "[2, 4, 6]"
      ]
     },
     "execution_count": 2,
     "metadata": {},
     "output_type": "execute_result"
    }
   ],
   "source": [
    "def double(x):\n",
    "    return x * 2\n",
    "\n",
    "a = [1, 2, 3]\n",
    "\n",
    "list(map(double, a))  # No jupyter é preciso criar uma lista com o resultado de map"
   ]
  },
  {
   "cell_type": "markdown",
   "metadata": {},
   "source": [
    "A função pode ser substituida por um lambda"
   ]
  },
  {
   "cell_type": "code",
   "execution_count": 6,
   "metadata": {
    "collapsed": false
   },
   "outputs": [
    {
     "data": {
      "text/plain": [
       "[2, 4, 6]"
      ]
     },
     "execution_count": 6,
     "metadata": {},
     "output_type": "execute_result"
    }
   ],
   "source": [
    "a = [1, 2, 3]\n",
    "\n",
    "list(map(lambda x: x * 2, a))  # No jupyter é preciso criar uma lista com o resultado de map"
   ]
  },
  {
   "cell_type": "markdown",
   "metadata": {},
   "source": [
    "**->filter(function, iterable)**: retorna um **iterable** contendo os items da **sequência/iterable** para os quais **function(item)** é *True*. Se **function** é *None*, retorna os ítens que são *True*."
   ]
  },
  {
   "cell_type": "code",
   "execution_count": 3,
   "metadata": {
    "collapsed": false
   },
   "outputs": [
    {
     "data": {
      "text/plain": [
       "[2, 4]"
      ]
     },
     "execution_count": 3,
     "metadata": {},
     "output_type": "execute_result"
    }
   ],
   "source": [
    "a = [1, 2, 3, 4, 5]\n",
    "\n",
    "def even(x):\n",
    "    return x % 2 == 0\n",
    "\n",
    "list(filter(even, a))"
   ]
  },
  {
   "cell_type": "markdown",
   "metadata": {},
   "source": [
    "### Multiple Assignment em Python\n",
    "\n",
    "Quando utiliza-se *multiple assignment* em Python, o lado direito da expressão é avaliado primeiro, o *assignment* ocorre depois."
   ]
  },
  {
   "cell_type": "code",
   "execution_count": 26,
   "metadata": {
    "collapsed": false
   },
   "outputs": [
    {
     "name": "stdout",
     "output_type": "stream",
     "text": [
      "a antes: 1\n",
      "b antes: 2\n",
      "a depois: 2\n",
      "b depois: 3\n"
     ]
    }
   ],
   "source": [
    "a, b = 1, 2\n",
    "print('a antes:', a)\n",
    "print('b antes:', b)\n",
    "\n",
    "a, b = b, b + a\n",
    "print('a depois:', a)\n",
    "print('b depois:', b)"
   ]
  },
  {
   "cell_type": "markdown",
   "metadata": {},
   "source": [
    "**obs**: Se você precisar modificar dentro do loop a list/sequência que você está iterando (por exemplo, duplicar itens selecionados), é recomendável que você faça primeiro uma cópia. Iterar sobre uma sequência não cria uma cópia, porém, a notação de slice cria essa cópia, sendo muito conveniente nesses casos."
   ]
  },
  {
   "cell_type": "code",
   "execution_count": 28,
   "metadata": {
    "collapsed": false
   },
   "outputs": [
    {
     "name": "stdout",
     "output_type": "stream",
     "text": [
      "words antes: ['cat', 'window', 'defenestrate']\n",
      "words depois: ['defenestrate', 'cat', 'window', 'defenestrate']\n"
     ]
    }
   ],
   "source": [
    "words = ['cat', 'window', 'defenestrate']\n",
    "print('words antes:', words)\n",
    "for w in words[:]:   # sem o slice [:], esse código entraria num loop infinito\n",
    "    if len(w) > 6:\n",
    "        words.insert(0, w)\n",
    "print('words depois:', words)"
   ]
  },
  {
   "cell_type": "markdown",
   "metadata": {
    "collapsed": true
   },
   "source": [
    "### Valores default em funções\n",
    "\n",
    "valores **default** de funções são avaliados no escopo de definição da função, então:"
   ]
  },
  {
   "cell_type": "code",
   "execution_count": 30,
   "metadata": {
    "collapsed": false
   },
   "outputs": [
    {
     "name": "stdout",
     "output_type": "stream",
     "text": [
      "5\n"
     ]
    }
   ],
   "source": [
    "i = 5\n",
    "\n",
    "def f(arg=i):\n",
    "    print(arg)\n",
    "    \n",
    "i = 6\n",
    "f() # imprime 5"
   ]
  },
  {
   "cell_type": "markdown",
   "metadata": {
    "collapsed": true
   },
   "source": [
    "**obs**: o valor **default** é avaliado somente uma vez. Isso faz diferença quando o default é um objeto mutável, tal como uma lista, dicionário, etc. Por exemplo, a seguinte função acumula os argumentos passados em chamadas subsequentes:"
   ]
  },
  {
   "cell_type": "code",
   "execution_count": 32,
   "metadata": {
    "collapsed": false
   },
   "outputs": [
    {
     "name": "stdout",
     "output_type": "stream",
     "text": [
      "[1]\n",
      "[1, 2]\n",
      "[1, 2, 3]\n"
     ]
    }
   ],
   "source": [
    "def f(a, L=[]):\n",
    "    L.append(a)\n",
    "    return L\n",
    "\n",
    "print(f(1))  # imprime [1]\n",
    "print(f(2))  # imprime [1, 2]\n",
    "print(f(3))  # imprime [1, 2, 3]"
   ]
  },
  {
   "cell_type": "markdown",
   "metadata": {},
   "source": [
    "Se você não quiser que o default seja compartilhado entre chamadas subsequentes, você pode escrever a função da seguinte maneira:"
   ]
  },
  {
   "cell_type": "code",
   "execution_count": 35,
   "metadata": {
    "collapsed": false
   },
   "outputs": [
    {
     "name": "stdout",
     "output_type": "stream",
     "text": [
      "[1]\n",
      "[2]\n",
      "[3]\n",
      "[1, 2, 3, 4]\n"
     ]
    }
   ],
   "source": [
    "def f(a, L=None):\n",
    "    if L == None:\n",
    "        L = []\n",
    "    L.append(a)\n",
    "    return L\n",
    "\n",
    "print(f(1))  # imprime [1]\n",
    "print(f(2))  # imprime [2]\n",
    "print(f(3))  # imprime [3]\n",
    "print(f(4, [1, 2, 3]))  # imprime [1, 2, 3, 4]\n"
   ]
  },
  {
   "cell_type": "markdown",
   "metadata": {},
   "source": [
    "### Keyword arguments"
   ]
  },
  {
   "cell_type": "markdown",
   "metadata": {
    "collapsed": true
   },
   "source": [
    "Funções podem ser chamadas utilizando *keyword arguments* na forma de **kwargs=value**."
   ]
  },
  {
   "cell_type": "code",
   "execution_count": 2,
   "metadata": {
    "collapsed": true
   },
   "outputs": [],
   "source": [
    "def parrot(voltage, state='a stiff', action='voom'):\n",
    "    pass"
   ]
  },
  {
   "cell_type": "markdown",
   "metadata": {},
   "source": [
    "A função *parrot* aceita um argumento obrigatório e dois opcionais (state e action). Essa função pode ser chamada das seguintes maneiras:"
   ]
  },
  {
   "cell_type": "code",
   "execution_count": null,
   "metadata": {
    "collapsed": true
   },
   "outputs": [],
   "source": [
    "parrot(1000)                                          # 1 positional argument\n",
    "parrot(voltage=1000)                                  # 1 keyword argument\n",
    "parrot(voltage=1000000, action='VOOOOOM')             # 2 keyword arguments\n",
    "parrot(action='VOOOOOM', voltage=1000000)             # 2 keyword arguments\n",
    "parrot('a million', 'bereft of life', 'jump')         # 3 positional arguments\n",
    "parrot('a thousand', state='pushing up the daisies')  # 1 positional, 1 keyword"
   ]
  },
  {
   "cell_type": "markdown",
   "metadata": {},
   "source": [
    "As execuções abaixo apresentam erro:"
   ]
  },
  {
   "cell_type": "code",
   "execution_count": null,
   "metadata": {
    "collapsed": true
   },
   "outputs": [],
   "source": [
    "parrot()                     # required argument missing\n",
    "parrot(voltage=5.0, 'dead')  # non-keyword argument after a keyword argument\n",
    "parrot(110, voltage=220)     # duplicate value for the same argument\n",
    "parrot(actor='John Cleese')  # unknown keyword argument"
   ]
  },
  {
   "cell_type": "markdown",
   "metadata": {},
   "source": [
    "**obs**: Quando temos um parâmetro final no formato \\*\\*name, ele recebe um dicionário contendo todos os *keyword arguments*, exceto aqueles que correspondem a um parâmetro formal. Eles podem ser combinados com um parâmetro formal na forma de \\*name, que recebe uma tupla contendo os argumentos posicionais que estão além da lista de parâmetros formal. (\\*name deve ocorrer antes de \\*\\*name). Ver exemplo abaixo."
   ]
  },
  {
   "cell_type": "code",
   "execution_count": 3,
   "metadata": {
    "collapsed": true
   },
   "outputs": [],
   "source": [
    "def cheeseshop(kind, *arguments, **keywords):\n",
    "    print(\"-- Do you have any\", kind, \"?\")\n",
    "    print(\"-- I'm sorry, we're all out of\", kind)\n",
    "    for arg in arguments:\n",
    "        print(arg)\n",
    "    print(\"-\" * 40)\n",
    "    for kw in keywords:\n",
    "        print(kw, \":\", keywords[kw])"
   ]
  },
  {
   "cell_type": "code",
   "execution_count": 4,
   "metadata": {
    "collapsed": false
   },
   "outputs": [
    {
     "name": "stdout",
     "output_type": "stream",
     "text": [
      "-- Do you have any Limburger ?\n",
      "-- I'm sorry, we're all out of Limburger\n",
      "It's very runny, sir.\n",
      "It's really very, VERY runny, sir.\n",
      "----------------------------------------\n",
      "shopkeeper : Michael Palin\n",
      "client : John Cleese\n",
      "sketch : Cheese Shop Sketch\n"
     ]
    }
   ],
   "source": [
    "cheeseshop(\"Limburger\", \"It's very runny, sir.\",\n",
    "           \"It's really very, VERY runny, sir.\",\n",
    "           shopkeeper=\"Michael Palin\",\n",
    "           client=\"John Cleese\",\n",
    "           sketch=\"Cheese Shop Sketch\")"
   ]
  },
  {
   "cell_type": "markdown",
   "metadata": {},
   "source": [
    "### Lambda Expressions"
   ]
  },
  {
   "cell_type": "markdown",
   "metadata": {},
   "source": [
    "São funções anônimas criadas com a palavra chave ** *lambda* **"
   ]
  },
  {
   "cell_type": "code",
   "execution_count": 6,
   "metadata": {
    "collapsed": false
   },
   "outputs": [
    {
     "name": "stdout",
     "output_type": "stream",
     "text": [
      "f(0): 42\n",
      "f(1): 43\n"
     ]
    }
   ],
   "source": [
    "def make_incrementor(n):\n",
    "    return lambda x: x + n\n",
    "\n",
    "f = make_incrementor(42)\n",
    "\n",
    "print('f(0):', f(0))\n",
    "print('f(1):', f(1))"
   ]
  },
  {
   "cell_type": "markdown",
   "metadata": {},
   "source": [
    "O exemplo acima utiliza uma expressão ** *lambda* ** para retornar uma função. Outro uso é passar uma pequena função como um argumento:"
   ]
  },
  {
   "cell_type": "code",
   "execution_count": 4,
   "metadata": {
    "collapsed": false
   },
   "outputs": [
    {
     "data": {
      "text/plain": [
       "[(4, 'four'), (1, 'one'), (3, 'three'), (2, 'two')]"
      ]
     },
     "execution_count": 4,
     "metadata": {},
     "output_type": "execute_result"
    }
   ],
   "source": [
    "pairs = [(1, 'one'), (2, 'two'), (3, 'three'), (4, 'four')]\n",
    "\n",
    "pairs.sort(key=lambda pair: pair[1])\n",
    "pairs"
   ]
  },
  {
   "cell_type": "code",
   "execution_count": null,
   "metadata": {
    "collapsed": true
   },
   "outputs": [],
   "source": []
  },
  {
   "cell_type": "code",
   "execution_count": null,
   "metadata": {
    "collapsed": true
   },
   "outputs": [],
   "source": []
  },
  {
   "cell_type": "code",
   "execution_count": null,
   "metadata": {
    "collapsed": true
   },
   "outputs": [],
   "source": []
  },
  {
   "cell_type": "code",
   "execution_count": null,
   "metadata": {
    "collapsed": true
   },
   "outputs": [],
   "source": []
  },
  {
   "cell_type": "code",
   "execution_count": null,
   "metadata": {
    "collapsed": true
   },
   "outputs": [],
   "source": []
  },
  {
   "cell_type": "code",
   "execution_count": null,
   "metadata": {
    "collapsed": true
   },
   "outputs": [],
   "source": []
  },
  {
   "cell_type": "code",
   "execution_count": null,
   "metadata": {
    "collapsed": true
   },
   "outputs": [],
   "source": []
  },
  {
   "cell_type": "code",
   "execution_count": null,
   "metadata": {
    "collapsed": true
   },
   "outputs": [],
   "source": []
  }
 ],
 "metadata": {
  "anaconda-cloud": {},
  "kernelspec": {
   "display_name": "Python 3",
   "language": "python",
   "name": "python3"
  },
  "language_info": {
   "codemirror_mode": {
    "name": "ipython",
    "version": 3
   },
   "file_extension": ".py",
   "mimetype": "text/x-python",
   "name": "python",
   "nbconvert_exporter": "python",
   "pygments_lexer": "ipython3",
   "version": "3.6.0"
  }
 },
 "nbformat": 4,
 "nbformat_minor": 1
}
