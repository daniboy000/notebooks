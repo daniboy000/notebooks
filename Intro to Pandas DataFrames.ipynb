{
 "cells": [
  {
   "cell_type": "markdown",
   "metadata": {},
   "source": [
    "### DataFrames"
   ]
  },
  {
   "cell_type": "markdown",
   "metadata": {},
   "source": [
    "Você pode ter problemas se pensar que um data frame é \"row-oriented\". DataFrames são utilizados para operações analíticas e são melhores compreendidos quando pensados como \"column-oriented\", onde cada coluna é uma série Pandas."
   ]
  },
  {
   "cell_type": "code",
   "execution_count": null,
   "metadata": {},
   "outputs": [],
   "source": [
    "import pandas as pd\n",
    "df = pd.DataFrame({\n",
    "    'growth': [0.5, 0.7, 1.2],\n",
    "    'Name': ['Paul', 'George', 'Ringo']\n",
    "})\n",
    "# Mostra df\n",
    "df"
   ]
  },
  {
   "cell_type": "markdown",
   "metadata": {},
   "source": [
    "#### Acessando uma linha utilizando index"
   ]
  },
  {
   "cell_type": "code",
   "execution_count": null,
   "metadata": {},
   "outputs": [],
   "source": [
    "df.iloc[1]"
   ]
  },
  {
   "cell_type": "markdown",
   "metadata": {},
   "source": [
    "#### Acessando colunas pelo nome"
   ]
  },
  {
   "cell_type": "code",
   "execution_count": null,
   "metadata": {},
   "outputs": [],
   "source": [
    "df['Name']  # pode ser acessado também usando df.Name"
   ]
  },
  {
   "cell_type": "markdown",
   "metadata": {},
   "source": [
    "**OBS 1**: O type de uma coluna é do tipo panda Series. Qualquer operação que pode ser realizada em uma série pode ser aplicada em uma coluna\n",
    "\n",
    "**OBS 2**: DataFrame sobrescreve __getattr__ para permitir o acesso a colunas na forma de atributos. Normalmente funciona bem, menos nos casos em que o nome da coluna seja o de um método/função existente ou existam caracteres como espaços no nome."
   ]
  },
  {
   "cell_type": "markdown",
   "metadata": {
    "collapsed": true
   },
   "source": [
    "### Contrução de um Data Frame"
   ]
  },
  {
   "cell_type": "markdown",
   "metadata": {},
   "source": [
    "Data frames podem ser criados de várias maneiras:\n",
    "    - colunas (dicts de lists)\n",
    "    - linhas (list of dicts)\n",
    "    - arquivos CSV\n",
    "    - à partir de ndarrays NumPy\n",
    "    - e mais, SQL, HDF5, etc."
   ]
  },
  {
   "cell_type": "code",
   "execution_count": null,
   "metadata": {},
   "outputs": [],
   "source": [
    "# Exemplo de criação de um data frame utilizando numpy\n",
    "import numpy as np\n",
    "pd.DataFrame(np.random.randn(10, 3), columns=['a', 'b', 'c'])"
   ]
  },
  {
   "cell_type": "markdown",
   "metadata": {},
   "source": [
    "### Eixos de um Data Frame"
   ]
  },
  {
   "cell_type": "markdown",
   "metadata": {},
   "source": [
    "Diferente de uma Série, que só possui um eixo, existem dois eixos em um data frame. Eles são normalmente chamados de eixos 0 e 1, ou row/index e column, respectivamente."
   ]
  },
  {
   "cell_type": "code",
   "execution_count": null,
   "metadata": {},
   "outputs": [],
   "source": [
    "df.axes"
   ]
  },
  {
   "cell_type": "markdown",
   "metadata": {},
   "source": [
    "Como muitas operações utilizam o eixo como parâmetro, é importante lembrar que 0 é o index e 1 são as colunas."
   ]
  },
  {
   "cell_type": "code",
   "execution_count": null,
   "metadata": {},
   "outputs": [],
   "source": [
    "df.axes[0]"
   ]
  },
  {
   "cell_type": "code",
   "execution_count": null,
   "metadata": {},
   "outputs": [],
   "source": [
    "df.axes[1]"
   ]
  },
  {
   "cell_type": "markdown",
   "metadata": {},
   "source": [
    "#### Exemplo de operações utilizando o eixo"
   ]
  },
  {
   "cell_type": "code",
   "execution_count": null,
   "metadata": {},
   "outputs": [],
   "source": [
    "# Craindo data frame de testes dt\n",
    "dt = pd.DataFrame({'Score1': [None, None],\n",
    "                   'Score2': [85, 90]})\n",
    "dt"
   ]
  },
  {
   "cell_type": "code",
   "execution_count": null,
   "metadata": {},
   "outputs": [],
   "source": [
    "# Soma os elementos de cada coluna\n",
    "dt.apply(np.sum, axis=0)"
   ]
  },
  {
   "cell_type": "code",
   "execution_count": null,
   "metadata": {},
   "outputs": [],
   "source": [
    "# Soma os elementos de cada linha\n",
    "dt.apply(np.sum, axis=1)"
   ]
  }
 ],
 "metadata": {
  "kernelspec": {
   "display_name": "Python 3",
   "language": "python",
   "name": "python3"
  },
  "language_info": {
   "codemirror_mode": {
    "name": "ipython",
    "version": 3
   },
   "file_extension": ".py",
   "mimetype": "text/x-python",
   "name": "python",
   "nbconvert_exporter": "python",
   "pygments_lexer": "ipython3",
   "version": "3.6.1"
  }
 },
 "nbformat": 4,
 "nbformat_minor": 2
}
